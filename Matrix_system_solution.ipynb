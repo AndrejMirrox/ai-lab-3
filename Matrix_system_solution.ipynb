{
 "cells": [
  {
   "cell_type": "code",
   "execution_count": 10,
   "metadata": {
    "pycharm": {
     "name": "#%%\n"
    }
   },
   "outputs": [],
   "source": [
    "import numpy as np"
   ]
  },
  {
   "cell_type": "markdown",
   "metadata": {
    "pycharm": {
     "name": "#%% md\n"
    }
   },
   "source": [
    "## Решение матричным методом"
   ]
  },
  {
   "cell_type": "code",
   "execution_count": 21,
   "metadata": {
    "pycharm": {
     "name": "#%%\n"
    }
   },
   "outputs": [],
   "source": [
    "M = np.matrix('1 5 6; 2 5 1; -3 2 7')\n",
    "V = np.matrix ('3; -4; 1')"
   ]
  },
  {
   "cell_type": "markdown",
   "metadata": {
    "pycharm": {
     "name": "#%% md\n"
    }
   },
   "source": [
    "Теперь необходимо проверить является ли матрица вырожденной (определитель равен 0) от этого будет зависеть сможем ли вообще использовать матричный метод для решения данного уравнения"
   ]
  },
  {
   "cell_type": "code",
   "execution_count": 22,
   "metadata": {
    "pycharm": {
     "name": "#%%\n"
    }
   },
   "outputs": [
    {
     "name": "stdout",
     "output_type": "stream",
     "text": [
      "62.00000000000001\n"
     ]
    }
   ],
   "source": [
    "opr = np.linalg.det(M)\n",
    "print(opr)"
   ]
  },
  {
   "cell_type": "markdown",
   "metadata": {
    "pycharm": {
     "name": "#%% md\n"
    }
   },
   "source": [
    "Определитель не равен 0"
   ]
  },
  {
   "cell_type": "markdown",
   "metadata": {
    "pycharm": {
     "name": "#%% md\n"
    }
   },
   "source": [
    "Найдем матрицу, обратную матрице коэффициентов при неизвестных"
   ]
  },
  {
   "cell_type": "code",
   "execution_count": 23,
   "metadata": {
    "pycharm": {
     "name": "#%%\n"
    }
   },
   "outputs": [
    {
     "name": "stdout",
     "output_type": "stream",
     "text": [
      "[[ 0.53225806 -0.37096774 -0.40322581]\n",
      " [-0.27419355  0.40322581  0.17741935]\n",
      " [ 0.30645161 -0.27419355 -0.08064516]]\n"
     ]
    }
   ],
   "source": [
    "m_inv = np.linalg.inv(M)\n",
    "print(m_inv)"
   ]
  },
  {
   "cell_type": "markdown",
   "metadata": {
    "pycharm": {
     "name": "#%% md\n"
    }
   },
   "source": [
    "Найдем матрицу не известных по формуле $ X = M^{-1} * V$"
   ]
  },
  {
   "cell_type": "code",
   "execution_count": 25,
   "metadata": {
    "pycharm": {
     "name": "#%%\n"
    }
   },
   "outputs": [
    {
     "data": {
      "text/plain": [
       "matrix([[ 2.67741935],\n",
       "        [-2.25806452],\n",
       "        [ 1.93548387]])"
      ]
     },
     "execution_count": 25,
     "metadata": {},
     "output_type": "execute_result"
    }
   ],
   "source": [
    "m_inv.dot(V)"
   ]
  },
  {
   "cell_type": "markdown",
   "metadata": {
    "pycharm": {
     "name": "#%% md\n"
    }
   },
   "source": [
    "В библиотеке numpy для решения систем уравнений матричным методом используется функция solve из linalg, проверим правильность решения с помощью этой функции"
   ]
  },
  {
   "cell_type": "code",
   "execution_count": 26,
   "metadata": {
    "pycharm": {
     "name": "#%%\n"
    }
   },
   "outputs": [
    {
     "data": {
      "text/plain": [
       "matrix([[ 2.67741935],\n",
       "        [-2.25806452],\n",
       "        [ 1.93548387]])"
      ]
     },
     "execution_count": 26,
     "metadata": {},
     "output_type": "execute_result"
    }
   ],
   "source": [
    "np.linalg.solve(M,V)"
   ]
  },
  {
   "cell_type": "markdown",
   "metadata": {
    "pycharm": {
     "name": "#%% md\n"
    }
   },
   "source": [
    "Значения совпадают"
   ]
  },
  {
   "cell_type": "markdown",
   "metadata": {
    "pycharm": {
     "name": "#%% md\n"
    }
   },
   "source": [
    "## Решение методом Крамера"
   ]
  },
  {
   "cell_type": "markdown",
   "metadata": {
    "pycharm": {
     "name": "#%% md\n"
    }
   },
   "source": [
    "Решим выше указанное уравнение методом Крамера"
   ]
  },
  {
   "cell_type": "markdown",
   "metadata": {
    "pycharm": {
     "name": "#%% md\n"
    }
   },
   "source": [
    "Для начала объявим необходимые матрицы, а именно матрицу коэффициентов при неизвестных, матрицу свободных членов и матрицу которая будет возвращать первоначальные значения изменённому столбцу. Так же зададим список для определителей полученных в ходе подстановки значений из матрицы свободных членов в матрицу коэффициентов при неизвестных."
   ]
  },
  {
   "cell_type": "code",
   "execution_count": 36,
   "metadata": {
    "pycharm": {
     "name": "#%%\n"
    }
   },
   "outputs": [],
   "source": [
    "M = np.matrix('1 5 6; 2 5 1; -3 2 7')\n",
    "V = np.matrix ('3; -4; 1')\n",
    "check_matrix = np.matrix('0;0;0')\n",
    "dets = []"
   ]
  },
  {
   "cell_type": "markdown",
   "metadata": {
    "pycharm": {
     "name": "#%% md\n"
    }
   },
   "source": [
    "Посчитаем изначальный определитель матрицы коэффициентов при неизвестных, его так же называют главным определителем"
   ]
  },
  {
   "cell_type": "code",
   "execution_count": 37,
   "metadata": {
    "pycharm": {
     "name": "#%%\n"
    }
   },
   "outputs": [],
   "source": [
    "main_det = np.linalg.det(M)"
   ]
  },
  {
   "cell_type": "code",
   "execution_count": 38,
   "metadata": {
    "pycharm": {
     "name": "#%%\n"
    }
   },
   "outputs": [],
   "source": [
    "i = 0\n",
    "while i < len(M):\n",
    "    check_matrix[:, 0] = M[:, i]\n",
    "    M[:, i] = V[:, 0]\n",
    "    temp_det = np.linalg.det(M)\n",
    "    dets.append(temp_det)\n",
    "    M[:, i] = check_matrix[:, 0]\n",
    "    i += 1\n"
   ]
  },
  {
   "cell_type": "markdown",
   "metadata": {
    "pycharm": {
     "name": "#%% md\n"
    }
   },
   "source": [
    "Теперь осталось только сделать из полученного списка numpy массив и разделить каждый элемент этого массива на главный определитель"
   ]
  },
  {
   "cell_type": "code",
   "execution_count": 39,
   "metadata": {
    "pycharm": {
     "name": "#%%\n"
    }
   },
   "outputs": [
    {
     "name": "stdout",
     "output_type": "stream",
     "text": [
      "[ 2. -3.  1.]\n"
     ]
    }
   ],
   "source": [
    "dets = np.array(dets)\n",
    "result = dets // main_det\n",
    "print(result)"
   ]
  },
  {
   "cell_type": "markdown",
   "metadata": {
    "pycharm": {
     "name": "#%% md\n"
    }
   },
   "source": [
    "Полученная матрица сходится с результатами предыдущего метода, из чего можно сделать вывод, что алгоритм работает корректно."
   ]
  }
 ],
 "metadata": {
  "kernelspec": {
   "display_name": "Python 3 (ipykernel)",
   "language": "python",
   "name": "python3"
  },
  "language_info": {
   "codemirror_mode": {
    "name": "ipython",
    "version": 3
   },
   "file_extension": ".py",
   "mimetype": "text/x-python",
   "name": "python",
   "nbconvert_exporter": "python",
   "pygments_lexer": "ipython3",
   "version": "3.9.13"
  }
 },
 "nbformat": 4,
 "nbformat_minor": 1
}
